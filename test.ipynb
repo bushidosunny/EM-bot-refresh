{
 "cells": [
  {
   "cell_type": "code",
   "execution_count": null,
   "metadata": {},
   "outputs": [],
   "source": [
    "import re\n",
    "\n",
    "def search_sessions(user_id, keywords):\n",
    "    collections = db.list_collection_names()\n",
    "    user_sessions = [col for col in collections if col.startswith(f'user_{user_id}_session_')]\n",
    "    \n",
    "    results = []\n",
    "    for collection_name in user_sessions:\n",
    "        # Create a case-insensitive regex pattern\n",
    "        pattern = re.compile(f\".*{re.escape(keywords)}.*\", re.IGNORECASE)\n",
    "        \n",
    "        query = {\n",
    "            \"$and\": [\n",
    "                {\"message\": {\"$regex\": pattern}},\n",
    "                {\"type\": \"chat_history\"}\n",
    "            ]\n",
    "        }\n",
    "        \n",
    "        projection = {\n",
    "            \"collection_name\": {\"$literal\": collection_name},\n",
    "            \"timestamp\": 1,\n",
    "            \"message\": 1\n",
    "        }\n",
    "        \n",
    "        collection_results = list(db[collection_name].find(query, projection))\n",
    "        results.extend(collection_results)\n",
    "    \n",
    "    # Sort results by timestamp (assuming newer messages should appear first)\n",
    "    results.sort(key=lambda x: x['timestamp'], reverse=True)\n",
    "    \n",
    "    return results"
   ]
  },
  {
   "cell_type": "code",
   "execution_count": null,
   "metadata": {},
   "outputs": [],
   "source": [
    "import re\n",
    "\n",
    "def search_sessions(user_id, keywords):\n",
    "    collections = db.list_collection_names()\n",
    "    user_sessions = [col for col in collections if col.startswith(f'user_{user_id}_session_')]\n",
    "    \n",
    "    results = []\n",
    "    for collection_name in user_sessions:\n",
    "        # Create a case-insensitive regex pattern\n",
    "        pattern = re.compile(f\".*{re.escape(keywords)}.*\", re.IGNORECASE)\n",
    "        \n",
    "        query = {\n",
    "            \"$and\": [\n",
    "                {\"message\": {\"$regex\": pattern}},\n",
    "                {\"type\": \"chat_history\"}\n",
    "            ]\n",
    "        }\n",
    "        \n",
    "        projection = {\n",
    "            \"collection_name\": {\"$literal\": collection_name},\n",
    "            \"timestamp\": 1,\n",
    "            \"message\": 1\n",
    "        }\n",
    "        \n",
    "        collection_results = list(db[collection_name].find(query, projection))\n",
    "        results.extend(collection_results)\n",
    "    \n",
    "    return results"
   ]
  }
 ],
 "metadata": {
  "kernelspec": {
   "display_name": "venv",
   "language": "python",
   "name": "python3"
  },
  "language_info": {
   "codemirror_mode": {
    "name": "ipython",
    "version": 3
   },
   "file_extension": ".py",
   "mimetype": "text/x-python",
   "name": "python",
   "nbconvert_exporter": "python",
   "pygments_lexer": "ipython3",
   "version": "3.11.7"
  }
 },
 "nbformat": 4,
 "nbformat_minor": 2
}
