{
 "cells": [
  {
   "cell_type": "code",
   "execution_count": 5,
   "metadata": {},
   "outputs": [],
   "source": [
    "import os\n",
    "from langchain_anthropic import ChatAnthropic\n",
    "from langchain_core.messages import HumanMessage, AIMessage, SystemMessage\n",
    "from prompts import *\n",
    "\n",
    "# Set up API key\n",
    "api_key = os.getenv(\"ANTHROPIC_API_KEY\")\n",
    "\n",
    "# Initialize the model\n",
    "model = ChatAnthropic(model=\"claude-3-5-sonnet-20240620\", temperature=0, max_tokens=4000)\n",
    "\n"
   ]
  },
  {
   "cell_type": "code",
   "execution_count": 2,
   "metadata": {},
   "outputs": [],
   "source": [
    "test_case2 = \"\"\"A 50-year-old man presented to the emergency department with a 1-month history of progressive nonproductive cough, daily fevers, and drenching night sweats. \n",
    "        He reported intermittent headaches, mild dyspnea on exertion, several episodes of feeling off balance, and mild difficulties with short-term memory. \n",
    "        He denied skin changes, edema, dysuria, abdominal pain, and weight loss. \n",
    "        He lives in the Upper Peninsula of Michigan and works as a contractor renovating homes with known exposure to bat droppings without use of a respirator the month before presentation. \n",
    "        There were no other significant outdoor or animal exposures or travel outside of the Midwest, including international travel. He had no history of homelessness, incarceration, or intravenous drug use.\n",
    "        \"\"\"\n",
    "\n"
   ]
  },
  {
   "cell_type": "code",
   "execution_count": 3,
   "metadata": {},
   "outputs": [
    {
     "data": {
      "text/plain": [
       "'A 50-year-old man presented to the emergency department with a 1-month history of progressive nonproductive cough, daily fevers, and drenching night sweats. \\n        He reported intermittent headaches, mild dyspnea on exertion, several episodes of feeling off balance, and mild difficulties with short-term memory. \\n        He denied skin changes, edema, dysuria, abdominal pain, and weight loss. \\n        He lives in the Upper Peninsula of Michigan and works as a contractor renovating homes with known exposure to bat droppings without use of a respirator the month before presentation. \\n        There were no other significant outdoor or animal exposures or travel outside of the Midwest, including international travel. He had no history of homelessness, incarceration, or intravenous drug use.\\n        '"
      ]
     },
     "execution_count": 3,
     "metadata": {},
     "output_type": "execute_result"
    }
   ],
   "source": [
    "test_case2"
   ]
  },
  {
   "cell_type": "code",
   "execution_count": 14,
   "metadata": {},
   "outputs": [
    {
     "name": "stdout",
     "output_type": "stream",
     "text": [
      "To use Streamlit with Anthropic's API, you'll need to follow these general steps:\n",
      "\n",
      "1. Install required packages:\n",
      "   ```\n",
      "   pip install streamlit anthropic\n",
      "   ```\n",
      "\n",
      "2. Set up your Anthropic API key:\n",
      "   - Sign up for an Anthropic API key if you haven't already.\n",
      "   - Store your API key securely (e.g., in an environment variable).\n",
      "\n",
      "3. Create a Streamlit app (e.g., `app.py`):\n",
      "\n",
      "```python\n",
      "import streamlit as st\n",
      "from anthropic import Anthropic, HUMAN_PROMPT, AI_PROMPT\n",
      "\n",
      "# Initialize Anthropic client\n",
      "anthropic = Anthropic(api_key='your-api-key-here')  # Replace with your actual API key\n",
      "\n",
      "st.title(\"Anthropic AI Chat\")\n",
      "\n",
      "# Initialize chat history\n",
      "if \"messages\" not in st.session_state:\n",
      "    st.session_state.messages = []\n",
      "\n",
      "# Display chat messages from history on app rerun\n",
      "for message in st.session_state.messages:\n",
      "    with st.chat_message(message[\"role\"]):\n",
      "        st.markdown(message[\"content\"])\n",
      "\n",
      "# React to user input\n",
      "if prompt := st.chat_input(\"What is your question?\"):\n",
      "    # Display user message in chat message container\n",
      "    st.chat_message(\"user\").markdown(prompt)\n",
      "    # Add user message to chat history\n",
      "    st.session_state.messages.append({\"role\": \"user\", \"content\": prompt})\n",
      "\n",
      "    # Call Anthropic API\n",
      "    response = anthropic.completions.create(\n",
      "        model=\"claude-2\",\n",
      "        max_tokens_to_sample=300,\n",
      "        prompt=f\"{HUMAN_PROMPT} {prompt} {AI_PROMPT}\",\n",
      "    )\n",
      "\n",
      "    # Display assistant response in chat message container\n",
      "    with st.chat_message(\"assistant\"):\n",
      "        st.markdown(response.completion)\n",
      "    # Add assistant response to chat history\n",
      "    st.session_state.messages.append({\"role\": \"assistant\", \"content\": response.completion})\n",
      "```\n",
      "\n",
      "4. Run your Streamlit app:\n",
      "   ```\n",
      "   streamlit run app.py\n",
      "   ```\n",
      "\n",
      "This example creates a simple chat interface where users can input questions, and the app will use Anthropic's API to generate responses. The chat history is maintained using Streamlit's session state.\n",
      "\n",
      "Remember to replace `'your-api-key-here'` with your actual Anthropic API key. It's best to use environment variables or a secure method to store and access your API key, rather than hardcoding it in your script.\n",
      "\n",
      "Also, make sure to adhere to Anthropic's usage guidelines and terms of service when using their API.\n"
     ]
    }
   ],
   "source": [
    "message = HumanMessage(system=\"you are a python coder helping with scrapy to scrape https://peterattiamd.com\\n\\n\",\n",
    "             content=\"how do you get streamlit to work with anthropic?\")\n",
    "\n",
    "\n",
    "# Get the response\n",
    "response = model.invoke([message])\n",
    "\n",
    "# Print the response\n",
    "print(response.content)"
   ]
  },
  {
   "cell_type": "code",
   "execution_count": 6,
   "metadata": {},
   "outputs": [
    {
     "name": "stdout",
     "output_type": "stream",
     "text": [
      "1. Assessment: 50-year-old male contractor from Michigan with 1-month history of progressive cough, fevers, night sweats, headaches, mild dyspnea, balance issues, and memory difficulties, with known exposure to bat droppings without respiratory protection.\n",
      "\n",
      "2. Differential Diagnosis:\n",
      "\n",
      "a) Histoplasmosis:\n",
      "- Strong evidence: Exposure to bat droppings, progressive cough, fevers, night sweats, mild dyspnea\n",
      "- Weak evidence: Headaches, balance issues, memory difficulties\n",
      "- Contradictory factors: None significant\n",
      "- Reasoning: Histoplasmosis is endemic in the Midwest, and exposure to bat droppings is a classic risk factor.\n",
      "- Likelihood: 80%\n",
      "\n",
      "b) Blastomycosis:\n",
      "- Strong evidence: Geographic location (Upper Peninsula of Michigan), progressive cough, fevers, night sweats\n",
      "- Weak evidence: Mild dyspnea, neurological symptoms\n",
      "- Contradictory factors: Lack of skin lesions (common in blastomycosis)\n",
      "- Reasoning: Blastomycosis is also endemic in the Great Lakes region and can present similarly to histoplasmosis.\n",
      "- Likelihood: 60%\n",
      "\n",
      "c) Cryptococcosis:\n",
      "- Strong evidence: Exposure to bat droppings, headaches, balance issues, memory difficulties\n",
      "- Weak evidence: Cough, fevers, night sweats\n",
      "- Contradictory factors: None significant\n",
      "- Reasoning: Cryptococcus neoformans can be found in bird droppings and can cause CNS symptoms.\n",
      "- Likelihood: 50%\n",
      "\n",
      "d) Tuberculosis:\n",
      "- Strong evidence: Progressive cough, fevers, night sweats, mild dyspnea\n",
      "- Weak evidence: Headaches, balance issues, memory difficulties\n",
      "- Contradictory factors: No known TB exposure or high-risk behaviors\n",
      "- Reasoning: TB can present with similar respiratory and systemic symptoms.\n",
      "- Likelihood: 40%\n",
      "\n",
      "e) Coccidioidomycosis:\n",
      "- Strong evidence: Progressive cough, fevers, night sweats\n",
      "- Weak evidence: Headaches, balance issues\n",
      "- Contradictory factors: Not endemic to the Midwest\n",
      "- Reasoning: Although not typical for the region, travel history may be incomplete.\n",
      "- Likelihood: 20%\n",
      "\n",
      "f) Non-Hodgkin's Lymphoma:\n",
      "- Strong evidence: Fevers, night sweats, progressive symptoms\n",
      "- Weak evidence: Cough, mild dyspnea\n",
      "- Contradictory factors: No reported lymphadenopathy or weight loss\n",
      "- Reasoning: Lymphoma can present with B symptoms and occasionally respiratory involvement.\n",
      "- Likelihood: 30%\n",
      "\n",
      "3. Dangerous diagnoses requiring urgent workup:\n",
      "- Cryptococcal meningitis: Due to neurological symptoms, which could rapidly progress if untreated.\n",
      "- Disseminated histoplasmosis or blastomycosis: Can lead to severe systemic illness and organ failure if not promptly diagnosed and treated.\n",
      "- Tuberculosis: Highly contagious and requires immediate isolation if suspected.\n",
      "\n",
      "4. Suggested Follow-Up Steps:\n",
      "- Additional Questions: Any recent weight loss? Any skin lesions or rashes? Any known immunocompromising conditions?\n",
      "- Physical Examinations: Thorough skin exam, neurological exam, lymph node palpation\n",
      "- Clinical Decision Tools: None specifically applicable\n",
      "- Lab Tests: CBC with differential, CMP, HIV test, Histoplasma antigen (urine and serum), Blastomyces antibody, Cryptococcal antigen, AFB sputum culture, blood cultures\n",
      "- Imaging Studies: Chest X-ray, CT chest, Brain MRI (if neurological symptoms persist)\n",
      "- Monitoring and Lifestyle: Monitor temperature, respiratory rate, and oxygen saturation\n",
      "\n",
      "5. Recommended interventions:\n",
      "- Initiate empiric antifungal therapy (e.g., itraconazole) if high suspicion for histoplasmosis or blastomycosis\n",
      "- Consider lumbar puncture if neurological symptoms worsen or persist\n",
      "- Respiratory isolation until TB is ruled out\n",
      "\n",
      "6. Critical actions before disposition:\n",
      "- Ensure respiratory isolation\n",
      "- Obtain chest imaging\n",
      "- Collect blood, urine, and sputum samples for culture and antigen/antibody testing\n",
      "- Consult Infectious Disease specialist\n",
      "\n",
      "7. Interesting academic insights:\n",
      "- The triad of progressive cough, fe\n"
     ]
    }
   ],
   "source": [
    "# Create system message\n",
    "system_message = SystemMessage(content=emma_system)\n",
    "\n",
    "\n",
    "# Create user message\n",
    "user_message = HumanMessage(content=test_case2)\n",
    "\n",
    "# Combine messages\n",
    "messages = [system_message, user_message]\n",
    "\n",
    "# Get the response\n",
    "response = model.invoke(messages)\n",
    "\n",
    "# Print the response\n",
    "print(response.content)"
   ]
  }
 ],
 "metadata": {
  "kernelspec": {
   "display_name": "venv",
   "language": "python",
   "name": "python3"
  },
  "language_info": {
   "codemirror_mode": {
    "name": "ipython",
    "version": 3
   },
   "file_extension": ".py",
   "mimetype": "text/x-python",
   "name": "python",
   "nbconvert_exporter": "python",
   "pygments_lexer": "ipython3",
   "version": "3.11.7"
  }
 },
 "nbformat": 4,
 "nbformat_minor": 2
}
